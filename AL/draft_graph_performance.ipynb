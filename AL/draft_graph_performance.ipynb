{
 "cells": [
  {
   "cell_type": "code",
   "execution_count": 99,
   "metadata": {
    "collapsed": false,
    "deletable": true,
    "editable": true
   },
   "outputs": [],
   "source": [
    "%reload_ext autoreload\n",
    "%autoreload 2\n",
    "\n",
    "from concept import concept_basis\n",
    "from graph_active_learning_sy import *\n",
    "\n",
    "from dag import DirectedGraph\n",
    "from graph_utils import create_graph_hyp_space\n",
    "from graph_utils import create_active_learning_hyp_space\n",
    "from graph_utils import create_teaching_hyp_space\n",
    "from graph_active_learner import GraphActiveLearner\n",
    "from graph_self_teacher import GraphSelfTeacher\n",
    "\n",
    "from itertools import combinations\n",
    "from itertools import permutations\n",
    "\n",
    "import numpy as np\n",
    "import matplotlib.pyplot as plt\n",
    "\n",
    "%matplotlib inline"
   ]
  },
  {
   "cell_type": "code",
   "execution_count": 72,
   "metadata": {
    "collapsed": true,
    "deletable": true,
    "editable": true
   },
   "outputs": [],
   "source": [
    "active_graph_space = create_active_learning_hyp_space(t=0.8, b=0.0)"
   ]
  },
  {
   "cell_type": "code",
   "execution_count": 73,
   "metadata": {
    "collapsed": false,
    "deletable": true,
    "editable": true
   },
   "outputs": [
    {
     "name": "stdout",
     "output_type": "stream",
     "text": [
      "27\n"
     ]
    }
   ],
   "source": [
    "print(len(active_graph_space))"
   ]
  },
  {
   "cell_type": "code",
   "execution_count": 39,
   "metadata": {
    "collapsed": false,
    "deletable": true,
    "editable": true
   },
   "outputs": [
    {
     "name": "stdout",
     "output_type": "stream",
     "text": [
      "Step 1\n",
      "Prior:\n",
      "[[0.5 0.5 0.5 0.5 0.5 0.5 0.5 0.5 0.5 0.5 0.5 0.5]\n",
      " [0.5 0.5 0.5 0.5 0.5 0.5 0.5 0.5 0.5 0.5 0.5 0.5]]\n",
      "Posterior:\n",
      "[[0.83333333 0.         0.         0.         0.03846154 1.\n",
      "  0.83333333 0.         1.         1.         0.         0.        ]\n",
      " [0.16666667 0.         1.         0.         0.96153846 0.\n",
      "  0.16666667 1.         0.         0.         0.         0.        ]]\n",
      "Prior entropy:\n",
      "[1. 1. 1.]\n",
      "Posterior entropy:\n",
      "[0.65002242 0.         0.         0.         0.23519338 0.\n",
      " 0.65002242 0.         0.         0.         0.         0.        ]\n",
      "EIG\n",
      "[0.29079207 0.41841585 0.29079207]\n",
      "\n",
      "\n",
      "Step 2\n",
      "Prior:\n",
      "[[0.83333333 0.         0.         0.         0.03846154 1.\n",
      "  0.83333333 0.         1.         1.         0.         0.        ]\n",
      " [0.16666667 0.         1.         0.         0.96153846 0.\n",
      "  0.16666667 1.         0.         0.         0.         0.        ]]\n",
      "Posterior:\n",
      "[[0.96153846 0.         0.         0.         0.00159744 1.\n",
      "  0.96153846 0.         1.         1.         0.         0.        ]\n",
      " [0.03846154 0.         1.         0.         0.99840256 0.\n",
      "  0.03846154 1.         0.         0.         0.         0.        ]]\n",
      "Prior entropy:\n",
      "[0.65002242 0.23519338 0.65002242]\n",
      "Posterior entropy:\n",
      "[0.23519338 0.         0.         0.         0.01714307 0.\n",
      " 0.23519338 0.         0.         0.         0.         0.        ]\n",
      "EIG\n",
      "[0.40158796 0.19682408 0.40158796]\n",
      "\n",
      "\n",
      "Step 3\n",
      "Prior:\n",
      "[[0.96153846 0.         0.         0.         0.00159744 1.\n",
      "  0.96153846 0.         1.         1.         0.         0.        ]\n",
      " [0.03846154 0.         1.         0.         0.99840256 0.\n",
      "  0.03846154 1.         0.         0.         0.         0.        ]]\n",
      "Posterior:\n",
      "[[9.92063492e-01 0.00000000e+00 0.00000000e+00 0.00000000e+00\n",
      "  6.39959043e-05 1.00000000e+00 9.92063492e-01 0.00000000e+00\n",
      "  1.00000000e+00 1.00000000e+00 0.00000000e+00 0.00000000e+00]\n",
      " [7.93650794e-03 0.00000000e+00 1.00000000e+00 0.00000000e+00\n",
      "  9.99936004e-01 0.00000000e+00 7.93650794e-03 1.00000000e+00\n",
      "  0.00000000e+00 0.00000000e+00 0.00000000e+00 0.00000000e+00]]\n",
      "Prior entropy:\n",
      "[0.23519338 0.01714307 0.23519338]\n",
      "Posterior entropy:\n",
      "[0.06677964 0.         0.         0.         0.00098389 0.\n",
      " 0.06677964 0.         0.         0.         0.         0.        ]\n",
      "EIG\n",
      "[0.47737218 0.04525564 0.47737218]\n",
      "\n",
      "\n"
     ]
    },
    {
     "name": "stderr",
     "output_type": "stream",
     "text": [
      "/Users/CoDaS/Dropbox/ShaftoLab/is-it-optimal/causal_graph/graph_active_learner.py:63: RuntimeWarning: divide by zero encountered in true_divide\n",
      "  prior_entropy = np.nansum(self.prior * np.log2(1/self.prior), axis=0)\n",
      "/Users/CoDaS/Dropbox/ShaftoLab/is-it-optimal/causal_graph/graph_active_learner.py:63: RuntimeWarning: invalid value encountered in multiply\n",
      "  prior_entropy = np.nansum(self.prior * np.log2(1/self.prior), axis=0)\n"
     ]
    }
   ],
   "source": [
    "ag = GraphActiveLearner(active_graph_space[1])\n",
    "\n",
    "ag.update_posterior()\n",
    "print('Step 1')\n",
    "print('Prior:')\n",
    "print(ag.prior)\n",
    "print('Posterior:')\n",
    "print(ag.posterior)\n",
    "print('Prior entropy:')\n",
    "print(ag.prior_entropy())\n",
    "print('Posterior entropy:')\n",
    "print(ag.posterior_entropy())\n",
    "print('EIG')\n",
    "print(ag.expected_information_gain())\n",
    "print('\\n')\n",
    "\n",
    "ag.prior = ag.posterior\n",
    "ag.update_posterior()\n",
    "print('Step 2')\n",
    "print('Prior:')\n",
    "print(ag.prior)\n",
    "print('Posterior:')\n",
    "print(ag.posterior)\n",
    "print('Prior entropy:')\n",
    "print(ag.prior_entropy())\n",
    "print('Posterior entropy:')\n",
    "print(ag.posterior_entropy())\n",
    "print('EIG')\n",
    "print(ag.expected_information_gain())\n",
    "print('\\n')\n",
    "\n",
    "ag.prior = ag.posterior\n",
    "ag.update_posterior()\n",
    "print('Step 3')\n",
    "print('Prior:')\n",
    "print(ag.prior)\n",
    "print('Posterior:')\n",
    "print(ag.posterior)\n",
    "print('Prior entropy:')\n",
    "print(ag.prior_entropy())\n",
    "print('Posterior entropy:')\n",
    "print(ag.posterior_entropy())\n",
    "print('EIG')\n",
    "print(ag.expected_information_gain())\n",
    "print('\\n')"
   ]
  },
  {
   "cell_type": "code",
   "execution_count": 89,
   "metadata": {
    "collapsed": false,
    "deletable": true,
    "editable": true
   },
   "outputs": [
    {
     "name": "stdout",
     "output_type": "stream",
     "text": [
      "Likelihood:\n",
      "[[1.   0.   0.   0.   0.04 0.16 1.   0.   0.16 0.64 0.   0.  ]\n",
      " [0.04 0.16 0.16 0.64 1.   0.   1.   0.   0.   0.   0.   0.  ]]\n",
      "Learner posterior:\n",
      "[[0.96153846 0.         0.         0.         0.03846154 1.\n",
      "  0.5        0.         1.         1.         0.         0.        ]\n",
      " [0.03846154 1.         1.         1.         0.96153846 0.\n",
      "  0.5        0.         0.         0.         0.         0.        ]]\n",
      "Self teacher posterior:\n",
      "[0.44444444 0.44444444 0.11111111]\n"
     ]
    }
   ],
   "source": [
    "stg = GraphSelfTeacher(active_graph_space[0])\n",
    "stg.update_learner_posterior()\n",
    "\n",
    "lik = stg.likelihood()\n",
    "print('Likelihood:')\n",
    "print(lik)\n",
    "\n",
    "post_l = stg.learner_posterior\n",
    "print('Learner posterior:')\n",
    "print(post_l)\n",
    "\n",
    "post_t = stg.update_self_teaching_posterior()\n",
    "print('Self teacher posterior:')\n",
    "print(post_t)"
   ]
  },
  {
   "cell_type": "code",
   "execution_count": 5,
   "metadata": {
    "collapsed": false,
    "deletable": true,
    "editable": true
   },
   "outputs": [
    {
     "name": "stdout",
     "output_type": "stream",
     "text": [
      "[0 0 0]\n",
      "[0 0 1]\n",
      "[0 1 0]\n",
      "[0 1 1]\n",
      "[1 0 0]\n",
      "[1 0 1]\n",
      "[1 1 0]\n",
      "[1 1 1]\n"
     ]
    }
   ],
   "source": [
    "obs_basis = concept_basis(3)\n",
    "for i in range(len(obs_basis)):\n",
    "    print(obs_basis[i])"
   ]
  },
  {
   "cell_type": "code",
   "execution_count": 41,
   "metadata": {
    "collapsed": false,
    "deletable": true,
    "editable": true
   },
   "outputs": [],
   "source": [
    "# 8 possible observations\n",
    "obs_poss = [[0, 0, 0],\n",
    "[0, 0, 1],\n",
    "[0, 1, 0],\n",
    "[0, 1, 1],\n",
    "[1, 0, 0],\n",
    "[1, 0, 1],\n",
    "[1, 1, 0],\n",
    "[1, 1, 1]]\n",
    "\n",
    "# Wai Keen's 12 observations\n",
    "# 0 = intervene, 1 = observed_off, 2 = observed_on\n",
    "wk_obs = [[0, 1, 1], \n",
    "[0, 1, 2], \n",
    "[0, 2, 1], \n",
    "[0, 2, 2], \n",
    "[1, 0, 1], \n",
    "[1, 0, 2], \n",
    "[1, 1, 0], \n",
    "[1, 2, 0], \n",
    "[2, 0, 1], \n",
    "[2, 0, 2], \n",
    "[2, 1, 0], \n",
    "[2, 2, 0]]\n",
    "\n",
    "x_list = [0,0,0,0,1,1,2,2,1,1,2,2]\n",
    "\n",
    "# transform the above to observations\n",
    "wk_trans = [[1, 0, 0],\n",
    "[1, 0, 1],\n",
    "[1, 1, 0],\n",
    "[1, 1, 1],\n",
    "[0, 1, 0],\n",
    "[0, 1, 1],\n",
    "[0, 0, 1],\n",
    "[0, 1, 1],\n",
    "[1, 1, 0],\n",
    "[1, 1, 1],\n",
    "[1, 0, 1],\n",
    "[1, 1, 1]]"
   ]
  },
  {
   "cell_type": "code",
   "execution_count": 42,
   "metadata": {
    "collapsed": false
   },
   "outputs": [
    {
     "data": {
      "text/plain": [
       "array([[1, 0, 0],\n",
       "       [1, 0, 1],\n",
       "       [1, 1, 0],\n",
       "       [1, 1, 1],\n",
       "       [0, 1, 0],\n",
       "       [0, 1, 1],\n",
       "       [0, 0, 1],\n",
       "       [0, 1, 1],\n",
       "       [1, 1, 0],\n",
       "       [1, 1, 1],\n",
       "       [1, 0, 1],\n",
       "       [1, 1, 1]])"
      ]
     },
     "execution_count": 42,
     "metadata": {},
     "output_type": "execute_result"
    }
   ],
   "source": [
    "tmp = np.array(wk_obs)\n",
    "tmp[tmp!=1] = -1\n",
    "tmp[tmp==1] = 0\n",
    "tmp[tmp==-1] = 1\n",
    "tmp"
   ]
  },
  {
   "cell_type": "code",
   "execution_count": 44,
   "metadata": {
    "collapsed": false
   },
   "outputs": [
    {
     "name": "stdout",
     "output_type": "stream",
     "text": [
      "[1, 0, 0] --> 4\n",
      "[1, 0, 1] --> 5\n",
      "[1, 1, 0] --> 6\n",
      "[1, 1, 1] --> 7\n",
      "[0, 1, 0] --> 2\n",
      "[0, 1, 1] --> 3\n",
      "[0, 0, 1] --> 1\n",
      "[0, 1, 1] --> 3\n",
      "[1, 1, 0] --> 6\n",
      "[1, 1, 1] --> 7\n",
      "[1, 0, 1] --> 5\n",
      "[1, 1, 1] --> 7\n"
     ]
    }
   ],
   "source": [
    "y_list = []\n",
    "for item in wk_trans:\n",
    "    for ind, obs in enumerate(obs_poss):\n",
    "        if np.array_equal(item, obs):\n",
    "            y_list.append(ind)\n",
    "            print(\"{} --> {}\".format(item, ind))"
   ]
  },
  {
   "cell_type": "code",
   "execution_count": 45,
   "metadata": {
    "collapsed": false
   },
   "outputs": [
    {
     "name": "stdout",
     "output_type": "stream",
     "text": [
      "[0, 0, 0, 0, 1, 1, 2, 2, 1, 1, 2, 2]\n",
      "[4, 5, 6, 7, 2, 3, 1, 3, 6, 7, 5, 7]\n"
     ]
    }
   ],
   "source": [
    "print(x_list)\n",
    "print(y_list)"
   ]
  },
  {
   "cell_type": "code",
   "execution_count": 17,
   "metadata": {
    "collapsed": false,
    "deletable": true,
    "editable": true
   },
   "outputs": [
    {
     "data": {
      "text/plain": [
       "array([[1, 0, 0],\n",
       "       [1, 0, 1],\n",
       "       [1, 1, 0],\n",
       "       [1, 1, 1],\n",
       "       [0, 1, 0],\n",
       "       [0, 1, 1],\n",
       "       [0, 0, 1],\n",
       "       [0, 1, 1],\n",
       "       [1, 1, 0],\n",
       "       [1, 1, 1],\n",
       "       [1, 0, 1],\n",
       "       [1, 1, 1]])"
      ]
     },
     "execution_count": 17,
     "metadata": {},
     "output_type": "execute_result"
    }
   ],
   "source": [
    "# each of the 12 in Wai Keen's observation list \n",
    "# should map onto two indices in my obserbation list (x, obs)\n",
    "[1, 0, 0] --> 0,4\n",
    "[1, 0, 1] --> 0,5\n",
    "[1, 1, 0] --> 0,6\n",
    "[1, 1, 1] --> 0,7\n",
    "[0, 1, 0] --> 1,2\n",
    "[0, 1, 1] --> 1,3\n",
    "[0, 0, 1] --> 2,1\n",
    "[0, 1, 1] --> 2,3\n",
    "[1, 1, 0] --> 1,6\n",
    "[1, 1, 1] --> 1,7\n",
    "[1, 0, 1] --> 2,5\n",
    "[1, 1, 1] --> 2,7"
   ]
  },
  {
   "cell_type": "code",
   "execution_count": 54,
   "metadata": {
    "collapsed": false
   },
   "outputs": [],
   "source": [
    "graph_spaces = create_graph_hyp_space(t=0.8, b=0)"
   ]
  },
  {
   "cell_type": "code",
   "execution_count": 56,
   "metadata": {
    "collapsed": false
   },
   "outputs": [
    {
     "data": {
      "text/plain": [
       "[1.0,\n",
       " 0.0,\n",
       " 0.0,\n",
       " 0.0,\n",
       " 0.03999999999999998,\n",
       " 0.15999999999999998,\n",
       " 1.0,\n",
       " 0.0,\n",
       " 0.15999999999999998,\n",
       " 0.6400000000000001,\n",
       " 0.0,\n",
       " 0.0]"
      ]
     },
     "execution_count": 56,
     "metadata": {},
     "output_type": "execute_result"
    }
   ],
   "source": [
    "graph_spaces['common_cause_2'].likelihood()"
   ]
  },
  {
   "cell_type": "code",
   "execution_count": 63,
   "metadata": {
    "collapsed": true
   },
   "outputs": [],
   "source": [
    "wk_prob = np.array([graph_spaces['common_cause_2'].likelihood(), graph_spaces['common_cause_1'].likelihood()])"
   ]
  },
  {
   "cell_type": "code",
   "execution_count": 92,
   "metadata": {
    "collapsed": false
   },
   "outputs": [],
   "source": [
    "# transform Wai Keen's likelihood format to my likelihood format\n",
    "def wk2sy_full_prob(wk_prob):\n",
    "    n_concept = 2\n",
    "    n_feature = 3\n",
    "    n_obs = 8\n",
    "    sy_prob = np.zeros([n_concept, n_feature, n_obs])\n",
    "    for i, concept in enumerate(wk_prob):\n",
    "        sy_prob[i,0,4] = wk_prob[i,0]\n",
    "        sy_prob[i,0,5] = wk_prob[i,1]\n",
    "        sy_prob[i,0,6] = wk_prob[i,2]\n",
    "        sy_prob[i,0,7] = wk_prob[i,3]\n",
    "        sy_prob[i,1,2] = wk_prob[i,4]\n",
    "        sy_prob[i,1,3] = wk_prob[i,5]\n",
    "        sy_prob[i,2,1] = wk_prob[i,6]\n",
    "        sy_prob[i,2,3] = wk_prob[i,7]\n",
    "        sy_prob[i,1,6] = wk_prob[i,8]\n",
    "        sy_prob[i,1,7] = wk_prob[i,9]\n",
    "        sy_prob[i,2,5] = wk_prob[i,10]\n",
    "        sy_prob[i,2,7] = wk_prob[i,11]\n",
    "    return sy_prob"
   ]
  },
  {
   "cell_type": "code",
   "execution_count": 66,
   "metadata": {
    "collapsed": false
   },
   "outputs": [
    {
     "data": {
      "text/plain": [
       "array([[[0.  , 0.  , 0.  , 0.  , 1.  , 0.  , 0.  , 0.  ],\n",
       "        [0.  , 0.  , 0.04, 0.16, 0.  , 0.  , 0.16, 0.64],\n",
       "        [0.  , 1.  , 0.  , 0.  , 0.  , 0.  , 0.  , 0.  ]],\n",
       "\n",
       "       [[0.  , 0.  , 0.  , 0.  , 0.04, 0.16, 0.16, 0.64],\n",
       "        [0.  , 0.  , 1.  , 0.  , 0.  , 0.  , 0.  , 0.  ],\n",
       "        [0.  , 1.  , 0.  , 0.  , 0.  , 0.  , 0.  , 0.  ]]])"
      ]
     },
     "execution_count": 66,
     "metadata": {},
     "output_type": "execute_result"
    }
   ],
   "source": [
    "sy_prob"
   ]
  },
  {
   "cell_type": "code",
   "execution_count": 70,
   "metadata": {
    "collapsed": false
   },
   "outputs": [
    {
     "name": "stderr",
     "output_type": "stream",
     "text": [
      "/Users/CoDaS/Dropbox/ShaftoLab/is-it-optimal/util.py:19: RuntimeWarning: divide by zero encountered in log\n",
      "  return -np.nansum(vec*np.log(vec))\n",
      "/Users/CoDaS/Dropbox/ShaftoLab/is-it-optimal/util.py:19: RuntimeWarning: invalid value encountered in multiply\n",
      "  return -np.nansum(vec*np.log(vec))\n"
     ]
    },
    {
     "data": {
      "text/plain": [
       "array([0.5, 0.5, 0. ])"
      ]
     },
     "execution_count": 70,
     "metadata": {},
     "output_type": "execute_result"
    }
   ],
   "source": [
    "prior = np.array([0.5, 0.5])\n",
    "eig = expected_information_gain(sy_prob, prior)\n",
    "eig = normalize(eig)\n",
    "eig"
   ]
  },
  {
   "cell_type": "code",
   "execution_count": 97,
   "metadata": {
    "collapsed": false
   },
   "outputs": [
    {
     "name": "stdout",
     "output_type": "stream",
     "text": [
      "WK's EIG: [0.5 0.5 0. ]\n",
      "SY's EIG: [0.5 0.5 0. ]\n",
      "\n",
      "WK's EIG: [0.29079207 0.41841585 0.29079207]\n",
      "SY's EIG: [0.29079207 0.41841585 0.29079207]\n",
      "\n",
      "WK's EIG: [0.5 0.5 0. ]\n",
      "SY's EIG: [0.5 0.5 0. ]\n",
      "\n",
      "WK's EIG: [0.83333333 0.16666667 0.        ]\n",
      "SY's EIG: [0.83333333 0.16666667 0.        ]\n",
      "\n",
      "WK's EIG: [0.29079207 0.41841585 0.29079207]\n",
      "SY's EIG: [0.29079207 0.41841585 0.29079207]\n",
      "\n",
      "WK's EIG: [0.41002372 0.58997628 0.        ]\n",
      "SY's EIG: [0.41002372 0.58997628 0.        ]\n",
      "\n",
      "WK's EIG: [0.41002372 0.58997628 0.        ]\n",
      "SY's EIG: [0.41002372 0.58997628 0.        ]\n",
      "\n",
      "WK's EIG: [0. 1. 0.]\n",
      "SY's EIG: [0. 1. 0.]\n",
      "\n",
      "WK's EIG: [0.5 0.  0.5]\n",
      "SY's EIG: [0.5 0.  0.5]\n",
      "\n",
      "WK's EIG: [0.30197756 0.30197756 0.39604488]\n",
      "SY's EIG: [0.30197756 0.30197756 0.39604488]\n",
      "\n",
      "WK's EIG: [0.28571429 0.35714286 0.35714286]\n",
      "SY's EIG: [0.28571429 0.35714286 0.35714286]\n",
      "\n",
      "WK's EIG: [0.39604488 0.30197756 0.30197756]\n",
      "SY's EIG: [0.39604488 0.30197756 0.30197756]\n",
      "\n",
      "WK's EIG: [1. 0. 0.]\n",
      "SY's EIG: [1.00000000e+00 0.00000000e+00 2.00214156e-16]\n",
      "\n",
      "WK's EIG: [0. 0. 1.]\n",
      "SY's EIG: [2.62581734e-16 0.00000000e+00 1.00000000e+00]\n",
      "\n",
      "WK's EIG: [0.5673813 0.        0.4326187]\n",
      "SY's EIG: [0.5673813 0.        0.4326187]\n",
      "\n",
      "WK's EIG: [0.33333333 0.33333333 0.33333333]\n",
      "SY's EIG: [0.33333333 0.33333333 0.33333333]\n",
      "\n",
      "WK's EIG: [0.35714286 0.28571429 0.35714286]\n",
      "SY's EIG: [0.35714286 0.28571429 0.35714286]\n",
      "\n",
      "WK's EIG: [0.5 0.5 0. ]\n",
      "SY's EIG: [0.5 0.5 0. ]\n",
      "\n",
      "WK's EIG: [0.30197756 0.39604488 0.30197756]\n",
      "SY's EIG: [0.30197756 0.39604488 0.30197756]\n",
      "\n",
      "WK's EIG: [0.28571429 0.35714286 0.35714286]\n",
      "SY's EIG: [0.28571429 0.35714286 0.35714286]\n",
      "\n",
      "WK's EIG: [0.11594429 0.44202786 0.44202786]\n",
      "SY's EIG: [0.11594429 0.44202786 0.44202786]\n",
      "\n",
      "WK's EIG: [0.44444444 0.55555556 0.        ]\n",
      "SY's EIG: [0.44444444 0.55555556 0.        ]\n",
      "\n"
     ]
    },
    {
     "name": "stderr",
     "output_type": "stream",
     "text": [
      "/Users/CoDaS/Dropbox/ShaftoLab/is-it-optimal/util.py:19: RuntimeWarning: divide by zero encountered in log\n",
      "  return -np.nansum(vec*np.log(vec))\n",
      "/Users/CoDaS/Dropbox/ShaftoLab/is-it-optimal/util.py:19: RuntimeWarning: invalid value encountered in multiply\n",
      "  return -np.nansum(vec*np.log(vec))\n"
     ]
    },
    {
     "name": "stdout",
     "output_type": "stream",
     "text": [
      "WK's EIG: [0.5673813 0.4326187 0.       ]\n",
      "SY's EIG: [0.5673813 0.4326187 0.       ]\n",
      "\n",
      "WK's EIG: [0.4326187 0.5673813 0.       ]\n",
      "SY's EIG: [0.4326187 0.5673813 0.       ]\n",
      "\n",
      "WK's EIG: [1. 0. 0.]\n",
      "SY's EIG: [1.00000000e+00 2.62581734e-16 0.00000000e+00]\n",
      "\n",
      "WK's EIG: [0.33333333 0.33333333 0.33333333]\n",
      "SY's EIG: [0.33333333 0.33333333 0.33333333]\n",
      "\n",
      "WK's EIG: [0.33333333 0.33333333 0.33333333]\n",
      "SY's EIG: [0.33333333 0.33333333 0.33333333]\n",
      "\n"
     ]
    }
   ],
   "source": [
    "# Check that WK's and SY's EIG is the same\n",
    "for space in active_graph_space:\n",
    "    ag = GraphActiveLearner(space)\n",
    "    ag.update_posterior()\n",
    "    print(\"WK's EIG: {}\".format(ag.expected_information_gain()))\n",
    "    lik = wk2sy_full_prob(ag.likelihood())\n",
    "    # print(lik.shape)\n",
    "    prior = np.array([0.5, 0.5])\n",
    "    eig = expected_information_gain(lik, prior)\n",
    "    print(\"SY's EIG: {}\".format(normalize(eig)))\n",
    "    print(\"\")"
   ]
  },
  {
   "cell_type": "code",
   "execution_count": 102,
   "metadata": {
    "collapsed": false
   },
   "outputs": [
    {
     "name": "stdout",
     "output_type": "stream",
     "text": [
      "WK's self-teaching score: [0.44444444 0.44444444 0.11111111]\n",
      "SY's self-teaching score: [0.44444444 0.44444444 0.11111111]\n",
      "\n",
      "WK's self-teaching score: [0.26559866 0.46880268 0.26559866]\n",
      "SY's self-teaching score: [0.26559866 0.46880268 0.26559866]\n",
      "\n",
      "WK's self-teaching score: [0.36363636 0.51048951 0.12587413]\n",
      "SY's self-teaching score: [0.36363636 0.51048951 0.12587413]\n",
      "\n",
      "WK's self-teaching score: [0.28571429 0.57142857 0.14285714]\n",
      "SY's self-teaching score: [0.28571429 0.57142857 0.14285714]\n",
      "\n",
      "WK's self-teaching score: [0.34079466 0.43482858 0.22437675]\n",
      "SY's self-teaching score: [0.34079466 0.43482858 0.22437675]\n",
      "\n",
      "WK's self-teaching score: [0.31725914 0.53043416 0.1523067 ]\n",
      "SY's self-teaching score: [0.31725914 0.53043416 0.1523067 ]\n",
      "\n",
      "WK's self-teaching score: [0.31725914 0.53043416 0.1523067 ]\n",
      "SY's self-teaching score: [0.31725914 0.53043416 0.1523067 ]\n",
      "\n",
      "WK's self-teaching score: [0.16875 0.6625  0.16875]\n",
      "SY's self-teaching score: [0.16875 0.6625  0.16875]\n",
      "\n",
      "WK's self-teaching score: [0.56818182 0.14318182 0.28863636]\n",
      "SY's self-teaching score: [0.56818182 0.14318182 0.28863636]\n",
      "\n",
      "WK's self-teaching score: [0.28571429 0.28571429 0.42857143]\n",
      "SY's self-teaching score: [0.28571429 0.28571429 0.42857143]\n",
      "\n",
      "WK's self-teaching score: [0.42727273 0.28409091 0.28863636]\n",
      "SY's self-teaching score: [0.42727273 0.28409091 0.28863636]\n",
      "\n",
      "WK's self-teaching score: [0.38095238 0.35978836 0.25925926]\n",
      "SY's self-teaching score: [0.38095238 0.35978836 0.25925926]\n",
      "\n",
      "WK's self-teaching score: [0.5625     0.14583333 0.29166667]\n",
      "SY's self-teaching score: [0.5625     0.14583333 0.29166667]\n",
      "\n",
      "WK's self-teaching score: [0.40178571 0.20089286 0.39732143]\n",
      "SY's self-teaching score: [0.40178571 0.20089286 0.39732143]\n",
      "\n",
      "WK's self-teaching score: [0.50154799 0.16718266 0.33126935]\n",
      "SY's self-teaching score: [0.50154799 0.16718266 0.33126935]\n",
      "\n",
      "WK's self-teaching score: [0.33126935 0.3374613  0.33126935]\n",
      "SY's self-teaching score: [0.33126935 0.3374613  0.33126935]\n",
      "\n",
      "WK's self-teaching score: [0.36363636 0.38111888 0.25524476]\n",
      "SY's self-teaching score: [0.36363636 0.38111888 0.25524476]\n",
      "\n",
      "WK's self-teaching score: [0.44444444 0.44444444 0.11111111]\n",
      "SY's self-teaching score: [0.44444444 0.44444444 0.11111111]\n",
      "\n",
      "WK's self-teaching score: [0.33333333 0.33333333 0.33333333]\n",
      "SY's self-teaching score: [0.33333333 0.33333333 0.33333333]\n",
      "\n",
      "WK's self-teaching score: [0.38111888 0.25524476 0.36363636]\n",
      "SY's self-teaching score: [0.38111888 0.25524476 0.36363636]\n",
      "\n",
      "WK's self-teaching score: [0.5  0.25 0.25]\n",
      "SY's self-teaching score: [0.5  0.25 0.25]\n",
      "\n",
      "WK's self-teaching score: [0.5     0.33125 0.16875]\n",
      "SY's self-teaching score: [0.5     0.33125 0.16875]\n",
      "\n",
      "WK's self-teaching score: [0.56470588 0.28705882 0.14823529]\n",
      "SY's self-teaching score: [0.56470588 0.28705882 0.14823529]\n",
      "\n",
      "WK's self-teaching score: [0.40705882 0.44470588 0.14823529]\n",
      "SY's self-teaching score: [0.40705882 0.44470588 0.14823529]\n",
      "\n",
      "WK's self-teaching score: [0.47402597 0.35064935 0.17532468]\n",
      "SY's self-teaching score: [0.47402597 0.35064935 0.17532468]\n",
      "\n",
      "WK's self-teaching score: [0.40705882 0.28705882 0.30588235]\n",
      "SY's self-teaching score: [0.40705882 0.28705882 0.30588235]\n",
      "\n",
      "WK's self-teaching score: [0.40705882 0.28705882 0.30588235]\n",
      "SY's self-teaching score: [0.40705882 0.28705882 0.30588235]\n",
      "\n"
     ]
    }
   ],
   "source": [
    "# Check that WK's and SY's self-teaching is the same\n",
    "for space in active_graph_space:\n",
    "    stg = GraphSelfTeacher(space)\n",
    "    stg.update_learner_posterior()\n",
    "    print(\"WK's self-teaching score: {}\".format(stg.update_self_teaching_posterior()))\n",
    "    lik = wk2sy_full_prob(stg.likelihood())\n",
    "    # print(lik.shape)\n",
    "    prior = np.array([0.5, 0.5])\n",
    "    st_score = self_teach(lik, prior)\n",
    "    print(\"SY's self-teaching score: {}\".format(st_score))\n",
    "    print(\"\")"
   ]
  },
  {
   "cell_type": "code",
   "execution_count": null,
   "metadata": {
    "collapsed": true
   },
   "outputs": [],
   "source": []
  }
 ],
 "metadata": {
  "anaconda-cloud": {},
  "kernelspec": {
   "display_name": "Python [py35]",
   "language": "python",
   "name": "Python [py35]"
  },
  "language_info": {
   "codemirror_mode": {
    "name": "ipython",
    "version": 3
   },
   "file_extension": ".py",
   "mimetype": "text/x-python",
   "name": "python",
   "nbconvert_exporter": "python",
   "pygments_lexer": "ipython3",
   "version": "3.5.2"
  }
 },
 "nbformat": 4,
 "nbformat_minor": 2
}
