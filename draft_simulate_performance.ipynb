{
 "cells": [
  {
   "cell_type": "code",
   "execution_count": 1,
   "metadata": {
    "collapsed": false
   },
   "outputs": [],
   "source": [
    "import numpy as np\n",
    "from active_learning import *\n",
    "from concept import *\n",
    "%matplotlib inline\n",
    "import matplotlib.pyplot as plt"
   ]
  },
  {
   "cell_type": "code",
   "execution_count": 2,
   "metadata": {
    "collapsed": true
   },
   "outputs": [],
   "source": [
    "boundary_task = [[1,1,1],\n",
    "                 [1,1,0],\n",
    "                 [1,0,0],\n",
    "                 [0,0,0]]\n",
    "\n",
    "line_task = [[1,0,0],\n",
    "             [0,1,0],\n",
    "             [0,0,1],\n",
    "             [1,1,0],\n",
    "             [0,1,1],\n",
    "             [1,1,1]]"
   ]
  },
  {
   "cell_type": "code",
   "execution_count": 14,
   "metadata": {
    "collapsed": false
   },
   "outputs": [
    {
     "name": "stdout",
     "output_type": "stream",
     "text": [
      "Warning: vec sums to zero\n",
      "Warning: vec sums to zero\n",
      "Warning: vec does not sum up to 1 (or 0).\n",
      "Warning: vec sums to zero\n",
      "Warning: vec sums to zero\n",
      "Warning: vec sums to zero\n",
      "Warning: vec does not sum up to 1 (or 0).\n",
      "Warning: vec sums to zero\n",
      "Warning: vec does not sum up to 1 (or 0).\n"
     ]
    },
    {
     "name": "stderr",
     "output_type": "stream",
     "text": [
      "/Users/CoDaS/Dropbox/ShaftoLab/is-it-optimal/active_learning.py:85: RuntimeWarning: divide by zero encountered in log\n",
      "  return -np.nansum(vec*np.log(vec))\n",
      "/Users/CoDaS/Dropbox/ShaftoLab/is-it-optimal/active_learning.py:85: RuntimeWarning: invalid value encountered in multiply\n",
      "  return -np.nansum(vec*np.log(vec))\n"
     ]
    }
   ],
   "source": [
    "# prototype\n",
    "concept_space = np.array(line_task)\n",
    "lik = likelihood(concept_space)\n",
    "n_concept, n_feature, n_y = lik.shape\n",
    "prior = np.array([1./n_concept]*n_concept)\n",
    "x_history = -np.ones(n_feature)\n",
    "y_history = -np.ones(n_feature)\n",
    "performance = -np.ones(n_feature)\n",
    "true_concept = 3\n",
    "for trial in range(n_feature):\n",
    "#     score = self_teach(lik, prior)\n",
    "    score = expected_information_gain(lik, prior)\n",
    "    # forbid re-selection\n",
    "    for ind in range(trial):\n",
    "        score[int(x_history[ind])] = -np.inf\n",
    "    x = score.argmax()\n",
    "    y = concept_space[true_concept, x]\n",
    "    post = posterior(x, y, lik, prior)\n",
    "    # diagnose\n",
    "#     print(trial)\n",
    "#     print(score)\n",
    "#     print(prior)\n",
    "#     print(post)\n",
    "    x_history[trial] = x\n",
    "    y_history[trial] = y\n",
    "    performance[trial] = post[true_concept]\n",
    "    prior = post"
   ]
  },
  {
   "cell_type": "code",
   "execution_count": 15,
   "metadata": {
    "collapsed": false
   },
   "outputs": [
    {
     "data": {
      "text/plain": [
       "[<matplotlib.lines.Line2D at 0x1181d49b0>]"
      ]
     },
     "execution_count": 15,
     "metadata": {},
     "output_type": "execute_result"
    },
    {
     "data": {
      "image/png": "[encoded data removed]",
      "text/plain": [
       "<matplotlib.figure.Figure at 0x117d96fd0>"
      ]
     },
     "metadata": {},
     "output_type": "display_data"
    }
   ],
   "source": [
    "plt.plot(performance, 'o-')"
   ]
  },
  {
   "cell_type": "code",
   "execution_count": 16,
   "metadata": {
    "collapsed": false
   },
   "outputs": [
    {
     "name": "stdout",
     "output_type": "stream",
     "text": [
      "[0. 1. 2.]\n"
     ]
    }
   ],
   "source": [
    "print(x_history)"
   ]
  },
  {
   "cell_type": "code",
   "execution_count": 5,
   "metadata": {
    "collapsed": false
   },
   "outputs": [
    {
     "name": "stdout",
     "output_type": "stream",
     "text": [
      "0\n",
      "Warning: vec sums to zero\n",
      "Warning: vec sums to zero\n",
      "Warning: vec sums to zero\n",
      "Warning: vec sums to zero\n",
      "[0.33333333 1.         1.        ]\n",
      "[0. 1. 2.]\n",
      "[0.33766234 0.39772727 0.33333333]\n",
      "1\n",
      "Warning: vec sums to zero\n",
      "Warning: vec sums to zero\n",
      "Warning: vec sums to zero\n",
      "[0.33333333 0.5        1.        ]\n",
      "[0. 1. 2.]\n",
      "[0.33766234 0.39772727 0.5       ]\n",
      "2\n",
      "Warning: vec sums to zero\n",
      "Warning: vec sums to zero\n",
      "Warning: vec sums to zero\n",
      "Warning: vec sums to zero\n",
      "[0.33333333 1.         1.        ]\n",
      "[0. 1. 2.]\n",
      "[0.33766234 0.39772727 0.33333333]\n",
      "3\n",
      "Warning: vec sums to zero\n",
      "Warning: vec sums to zero\n",
      "Warning: vec sums to zero\n",
      "[0.33333333 0.5        1.        ]\n",
      "[0. 1. 2.]\n",
      "[0.33766234 0.39772727 0.5       ]\n",
      "4\n",
      "Warning: vec sums to zero\n",
      "Warning: vec sums to zero\n",
      "Warning: vec sums to zero\n",
      "[0.33333333 0.5        1.        ]\n",
      "[0. 1. 2.]\n",
      "[0.33766234 0.39772727 0.5       ]\n",
      "5\n",
      "Warning: vec sums to zero\n",
      "Warning: vec sums to zero\n",
      "Warning: vec sums to zero\n",
      "[0.33333333 0.5        1.        ]\n",
      "[0. 1. 2.]\n",
      "[0.33766234 0.39772727 0.5       ]\n"
     ]
    },
    {
     "name": "stderr",
     "output_type": "stream",
     "text": [
      "/Users/CoDaS/Dropbox/ShaftoLab/is-it-optimal/active_learning.py:116: RuntimeWarning: invalid value encountered in true_divide\n",
      "  score = full_post*teacher_prior*rep_prior/rep_z\n"
     ]
    }
   ],
   "source": [
    "for i in range(6):\n",
    "    print(i)\n",
    "    perf, xs, ys, ss = simulate_performance(line_task, truth_ind=i, method=\"self-teach\")\n",
    "    print(perf)\n",
    "    print(xs)\n",
    "    print(ss)"
   ]
  },
  {
   "cell_type": "code",
   "execution_count": 6,
   "metadata": {
    "collapsed": false
   },
   "outputs": [
    {
     "name": "stdout",
     "output_type": "stream",
     "text": [
      "0\n",
      "Warning: vec sums to zero\n",
      "Warning: vec sums to zero\n",
      "Warning: vec does not sum up to 1 (or 0).\n",
      "Warning: vec sums to zero\n",
      "Warning: vec sums to zero\n",
      "Warning: vec sums to zero\n",
      "Warning: vec sums to zero\n",
      "Warning: vec does not sum up to 1 (or 0).\n",
      "Warning: vec sums to zero\n",
      "Warning: vec does not sum up to 1 (or 0).\n",
      "Warning: vec sums to zero\n",
      "Warning: vec does not sum up to 1 (or 0).\n",
      "[0.33333333 1.         1.        ]\n",
      "[0. 1. 2.]\n",
      "[ 0.69314718  0.63651417 -0.        ]\n",
      "1\n",
      "Warning: vec sums to zero\n",
      "Warning: vec sums to zero\n",
      "Warning: vec does not sum up to 1 (or 0).\n",
      "Warning: vec sums to zero\n",
      "Warning: vec sums to zero\n",
      "Warning: vec sums to zero\n",
      "Warning: vec does not sum up to 1 (or 0).\n",
      "Warning: vec sums to zero\n",
      "Warning: vec does not sum up to 1 (or 0).\n",
      "[0.33333333 0.5        1.        ]\n",
      "[0. 1. 2.]\n",
      "[0.69314718 0.63651417 0.69314718]\n",
      "2\n",
      "Warning: vec sums to zero\n",
      "Warning: vec sums to zero\n",
      "Warning: vec does not sum up to 1 (or 0).\n",
      "Warning: vec sums to zero\n",
      "Warning: vec sums to zero\n",
      "Warning: vec sums to zero\n",
      "Warning: vec sums to zero\n",
      "Warning: vec does not sum up to 1 (or 0).\n",
      "Warning: vec sums to zero\n",
      "Warning: vec does not sum up to 1 (or 0).\n",
      "Warning: vec sums to zero\n",
      "Warning: vec does not sum up to 1 (or 0).\n",
      "[0.33333333 1.         1.        ]\n",
      "[0. 1. 2.]\n",
      "[ 0.69314718  0.63651417 -0.        ]\n",
      "3\n",
      "Warning: vec sums to zero\n",
      "Warning: vec sums to zero\n",
      "Warning: vec does not sum up to 1 (or 0).\n",
      "Warning: vec sums to zero\n",
      "Warning: vec sums to zero\n",
      "Warning: vec sums to zero\n",
      "Warning: vec does not sum up to 1 (or 0).\n",
      "Warning: vec sums to zero\n",
      "Warning: vec does not sum up to 1 (or 0).\n",
      "[0.33333333 0.5        1.        ]\n",
      "[0. 1. 2.]\n",
      "[0.69314718 0.63651417 0.69314718]\n",
      "4\n",
      "Warning: vec sums to zero\n",
      "Warning: vec sums to zero\n",
      "Warning: vec does not sum up to 1 (or 0).\n",
      "Warning: vec sums to zero\n",
      "Warning: vec sums to zero\n",
      "Warning: vec sums to zero\n",
      "Warning: vec does not sum up to 1 (or 0).\n",
      "Warning: vec sums to zero\n",
      "Warning: vec does not sum up to 1 (or 0).\n",
      "[0.33333333 0.5        1.        ]\n",
      "[0. 1. 2.]\n",
      "[0.69314718 0.63651417 0.69314718]\n",
      "5\n",
      "Warning: vec sums to zero\n",
      "Warning: vec sums to zero\n",
      "Warning: vec does not sum up to 1 (or 0).\n",
      "Warning: vec sums to zero\n",
      "Warning: vec sums to zero\n",
      "Warning: vec sums to zero\n",
      "Warning: vec does not sum up to 1 (or 0).\n",
      "Warning: vec sums to zero\n",
      "Warning: vec does not sum up to 1 (or 0).\n",
      "[0.33333333 0.5        1.        ]\n",
      "[0. 1. 2.]\n",
      "[0.69314718 0.63651417 0.69314718]\n"
     ]
    },
    {
     "name": "stderr",
     "output_type": "stream",
     "text": [
      "/Users/CoDaS/Dropbox/ShaftoLab/is-it-optimal/active_learning.py:85: RuntimeWarning: divide by zero encountered in log\n",
      "  return -np.nansum(vec*np.log(vec))\n",
      "/Users/CoDaS/Dropbox/ShaftoLab/is-it-optimal/active_learning.py:85: RuntimeWarning: invalid value encountered in multiply\n",
      "  return -np.nansum(vec*np.log(vec))\n"
     ]
    }
   ],
   "source": [
    "for i in range(6):\n",
    "    print(i)\n",
    "    perf, xs, ys, ss = simulate_performance(line_task, truth_ind=i, method=\"eig\")\n",
    "    print(perf)\n",
    "    print(xs)\n",
    "    print(ss)"
   ]
  },
  {
   "cell_type": "code",
   "execution_count": 7,
   "metadata": {
    "collapsed": false
   },
   "outputs": [
    {
     "name": "stdout",
     "output_type": "stream",
     "text": [
      "Warning: vec sums to zero\n",
      "Warning: vec sums to zero\n",
      "Warning: vec sums to zero\n",
      "Warning: vec does not sum up to 1 (or 0).\n",
      "Warning: vec sums to zero\n",
      "Warning: vec does not sum up to 1 (or 0).\n",
      "Warning: vec sums to zero\n",
      "Warning: vec sums to zero\n",
      "Warning: vec sums to zero\n",
      "Warning: vec sums to zero\n",
      "Warning: vec does not sum up to 1 (or 0).\n",
      "Warning: vec sums to zero\n",
      "Warning: vec does not sum up to 1 (or 0).\n",
      "Warning: vec sums to zero\n",
      "Warning: vec does not sum up to 1 (or 0).\n",
      "Warning: vec sums to zero\n",
      "Warning: vec sums to zero\n",
      "Warning: vec sums to zero\n",
      "Warning: vec does not sum up to 1 (or 0).\n",
      "Warning: vec sums to zero\n",
      "Warning: vec does not sum up to 1 (or 0).\n",
      "Warning: vec sums to zero\n",
      "Warning: vec sums to zero\n",
      "Warning: vec sums to zero\n",
      "Warning: vec sums to zero\n",
      "Warning: vec does not sum up to 1 (or 0).\n",
      "Warning: vec sums to zero\n",
      "Warning: vec does not sum up to 1 (or 0).\n",
      "Warning: vec sums to zero\n",
      "Warning: vec does not sum up to 1 (or 0).\n",
      "Warning: vec sums to zero\n",
      "Warning: vec sums to zero\n",
      "Warning: vec sums to zero\n",
      "Warning: vec does not sum up to 1 (or 0).\n",
      "Warning: vec sums to zero\n",
      "Warning: vec does not sum up to 1 (or 0).\n",
      "Warning: vec sums to zero\n",
      "Warning: vec sums to zero\n",
      "Warning: vec sums to zero\n",
      "Warning: vec sums to zero\n",
      "Warning: vec does not sum up to 1 (or 0).\n",
      "Warning: vec sums to zero\n",
      "Warning: vec does not sum up to 1 (or 0).\n",
      "Warning: vec sums to zero\n",
      "Warning: vec does not sum up to 1 (or 0).\n",
      "Warning: vec sums to zero\n",
      "Warning: vec sums to zero\n",
      "Warning: vec sums to zero\n",
      "Warning: vec does not sum up to 1 (or 0).\n",
      "Warning: vec sums to zero\n",
      "Warning: vec does not sum up to 1 (or 0).\n",
      "Warning: vec sums to zero\n",
      "Warning: vec sums to zero\n",
      "Warning: vec sums to zero\n",
      "Warning: vec sums to zero\n",
      "Warning: vec does not sum up to 1 (or 0).\n",
      "Warning: vec sums to zero\n",
      "Warning: vec does not sum up to 1 (or 0).\n",
      "Warning: vec sums to zero\n",
      "Warning: vec does not sum up to 1 (or 0).\n"
     ]
    },
    {
     "name": "stderr",
     "output_type": "stream",
     "text": [
      "/Users/CoDaS/Dropbox/ShaftoLab/is-it-optimal/active_learning.py:85: RuntimeWarning: divide by zero encountered in log\n",
      "  return -np.nansum(vec*np.log(vec))\n",
      "/Users/CoDaS/Dropbox/ShaftoLab/is-it-optimal/active_learning.py:85: RuntimeWarning: invalid value encountered in multiply\n",
      "  return -np.nansum(vec*np.log(vec))\n"
     ]
    },
    {
     "data": {
      "text/plain": [
       "[<matplotlib.lines.Line2D at 0x1180c5a20>]"
      ]
     },
     "execution_count": 7,
     "metadata": {},
     "output_type": "execute_result"
    },
    {
     "data": {
      "image/png": "[encoded data removed]",
      "text/plain": [
       "<matplotlib.figure.Figure at 0x117e774a8>"
      ]
     },
     "metadata": {},
     "output_type": "display_data"
    }
   ],
   "source": [
    "avg_perf_eig = average_performance(np.array(boundary_task), method='eig')\n",
    "plt.plot(avg_perf_eig, '-o')"
   ]
  },
  {
   "cell_type": "code",
   "execution_count": 8,
   "metadata": {
    "collapsed": false
   },
   "outputs": [
    {
     "name": "stdout",
     "output_type": "stream",
     "text": [
      "Warning: vec sums to zero\n",
      "Warning: vec sums to zero\n",
      "Warning: vec sums to zero\n",
      "Warning: vec sums to zero\n",
      "Warning: vec sums to zero\n",
      "Warning: vec sums to zero\n",
      "Warning: vec sums to zero\n",
      "Warning: vec sums to zero\n",
      "Warning: vec sums to zero\n",
      "Warning: vec sums to zero\n",
      "Warning: vec sums to zero\n",
      "Warning: vec sums to zero\n",
      "Warning: vec sums to zero\n",
      "Warning: vec sums to zero\n",
      "Warning: vec sums to zero\n",
      "Warning: vec sums to zero\n",
      "Warning: vec sums to zero\n",
      "Warning: vec sums to zero\n",
      "Warning: vec sums to zero\n",
      "Warning: vec sums to zero\n"
     ]
    },
    {
     "name": "stderr",
     "output_type": "stream",
     "text": [
      "/Users/CoDaS/Dropbox/ShaftoLab/is-it-optimal/active_learning.py:119: RuntimeWarning: invalid value encountered in true_divide\n",
      "  score = full_post*teacher_prior*rep_prior/rep_z\n"
     ]
    },
    {
     "data": {
      "text/plain": [
       "[<matplotlib.lines.Line2D at 0x1181f6278>]"
      ]
     },
     "execution_count": 8,
     "metadata": {},
     "output_type": "execute_result"
    },
    {
     "data": {
      "image/png": "[encoded data removed]",
      "text/plain": [
       "<matplotlib.figure.Figure at 0x11809bf60>"
      ]
     },
     "metadata": {},
     "output_type": "display_data"
    }
   ],
   "source": [
    "avg_perf_eig = average_performance(np.array(boundary_task), method='self-teach')\n",
    "plt.plot(avg_perf_eig, '-o')"
   ]
  },
  {
   "cell_type": "code",
   "execution_count": 3,
   "metadata": {
    "collapsed": false
   },
   "outputs": [],
   "source": [
    "n_feature = 10\n",
    "n_concept = 50\n",
    "basis = concept_basis(n_feature)\n",
    "concept_space = select_random_basis(basis, n_concept)"
   ]
  },
  {
   "cell_type": "code",
   "execution_count": 4,
   "metadata": {
    "collapsed": false
   },
   "outputs": [
    {
     "data": {
      "text/plain": [
       "array([[1., 0., 0., 1., 1., 1., 0., 0., 0., 1.],\n",
       "       [1., 0., 0., 0., 0., 1., 0., 0., 1., 0.],\n",
       "       [0., 1., 1., 0., 0., 1., 0., 0., 0., 1.],\n",
       "       [0., 1., 1., 0., 0., 0., 1., 0., 0., 0.],\n",
       "       [0., 1., 0., 0., 1., 1., 0., 1., 0., 0.],\n",
       "       [1., 0., 1., 0., 0., 1., 1., 0., 0., 0.],\n",
       "       [0., 1., 0., 0., 0., 1., 1., 1., 1., 1.],\n",
       "       [1., 0., 0., 1., 0., 0., 1., 1., 0., 1.],\n",
       "       [1., 1., 0., 1., 0., 1., 0., 1., 1., 1.],\n",
       "       [1., 1., 0., 0., 1., 1., 1., 1., 1., 1.],\n",
       "       [1., 1., 1., 0., 1., 1., 1., 0., 0., 1.],\n",
       "       [0., 0., 1., 0., 0., 0., 1., 0., 1., 1.],\n",
       "       [0., 0., 0., 0., 0., 1., 1., 1., 1., 0.],\n",
       "       [0., 0., 0., 0., 1., 1., 0., 0., 0., 1.],\n",
       "       [0., 0., 1., 1., 1., 1., 0., 0., 0., 0.],\n",
       "       [0., 0., 1., 1., 0., 1., 0., 0., 1., 0.],\n",
       "       [0., 0., 0., 1., 0., 0., 1., 0., 0., 1.],\n",
       "       [1., 0., 0., 0., 0., 0., 0., 1., 0., 1.],\n",
       "       [1., 1., 1., 1., 1., 1., 0., 1., 0., 1.],\n",
       "       [0., 1., 1., 0., 1., 0., 1., 1., 0., 0.],\n",
       "       [1., 0., 1., 1., 0., 1., 1., 0., 0., 0.],\n",
       "       [1., 1., 0., 0., 0., 1., 1., 0., 0., 1.],\n",
       "       [0., 1., 1., 0., 1., 0., 1., 0., 0., 0.],\n",
       "       [0., 1., 1., 0., 0., 0., 0., 0., 0., 0.],\n",
       "       [0., 0., 0., 0., 0., 1., 0., 0., 1., 1.],\n",
       "       [1., 0., 0., 1., 0., 1., 1., 1., 0., 1.],\n",
       "       [1., 1., 0., 0., 1., 1., 0., 0., 1., 0.],\n",
       "       [1., 1., 0., 0., 1., 0., 0., 0., 1., 1.],\n",
       "       [1., 0., 0., 0., 1., 0., 1., 1., 0., 0.],\n",
       "       [1., 0., 1., 0., 1., 1., 1., 1., 0., 1.],\n",
       "       [0., 0., 1., 0., 0., 0., 0., 0., 1., 1.],\n",
       "       [0., 1., 1., 0., 0., 1., 1., 1., 1., 1.],\n",
       "       [1., 1., 0., 1., 1., 0., 1., 0., 0., 1.],\n",
       "       [1., 1., 0., 1., 0., 0., 0., 0., 1., 1.],\n",
       "       [0., 1., 0., 1., 0., 1., 0., 1., 1., 0.],\n",
       "       [1., 0., 1., 0., 1., 0., 0., 1., 1., 1.],\n",
       "       [0., 0., 0., 1., 1., 1., 1., 0., 1., 1.],\n",
       "       [0., 1., 0., 0., 1., 0., 1., 1., 1., 0.],\n",
       "       [0., 1., 0., 0., 1., 0., 1., 1., 0., 0.],\n",
       "       [0., 0., 0., 1., 0., 1., 0., 1., 0., 1.],\n",
       "       [0., 0., 0., 0., 1., 0., 0., 0., 1., 0.],\n",
       "       [0., 1., 0., 1., 1., 1., 1., 1., 0., 1.],\n",
       "       [1., 1., 1., 1., 0., 1., 0., 0., 0., 0.],\n",
       "       [0., 1., 1., 1., 1., 1., 1., 1., 1., 0.],\n",
       "       [0., 1., 1., 1., 0., 1., 1., 0., 0., 1.],\n",
       "       [0., 0., 1., 0., 0., 0., 1., 1., 0., 0.],\n",
       "       [1., 0., 1., 1., 0., 1., 0., 0., 0., 1.],\n",
       "       [0., 1., 1., 1., 0., 0., 0., 1., 0., 0.],\n",
       "       [1., 1., 0., 1., 0., 0., 1., 1., 0., 0.],\n",
       "       [0., 0., 1., 1., 1., 1., 1., 1., 1., 0.]])"
      ]
     },
     "execution_count": 4,
     "metadata": {},
     "output_type": "execute_result"
    }
   ],
   "source": [
    "concept_space"
   ]
  },
  {
   "cell_type": "code",
   "execution_count": 5,
   "metadata": {
    "collapsed": false
   },
   "outputs": [
    {
     "name": "stderr",
     "output_type": "stream",
     "text": [
      "/Users/CoDaS/Dropbox/ShaftoLab/is-it-optimal/active_learning.py:85: RuntimeWarning: divide by zero encountered in log\n",
      "  return -np.nansum(vec*np.log(vec))\n",
      "/Users/CoDaS/Dropbox/ShaftoLab/is-it-optimal/active_learning.py:85: RuntimeWarning: invalid value encountered in multiply\n",
      "  return -np.nansum(vec*np.log(vec))\n"
     ]
    },
    {
     "data": {
      "text/plain": [
       "[<matplotlib.lines.Line2D at 0x117cf6748>]"
      ]
     },
     "execution_count": 5,
     "metadata": {},
     "output_type": "execute_result"
    },
    {
     "data": {
      "image/png": "[encoded data removed]",
      "text/plain": [
       "<matplotlib.figure.Figure at 0x115ad64a8>"
      ]
     },
     "metadata": {},
     "output_type": "display_data"
    }
   ],
   "source": [
    "avg_perf_eig = average_performance(np.array(concept_space), method='eig')\n",
    "plt.plot(avg_perf_eig, '-o')"
   ]
  },
  {
   "cell_type": "code",
   "execution_count": 6,
   "metadata": {
    "collapsed": false
   },
   "outputs": [
    {
     "name": "stderr",
     "output_type": "stream",
     "text": [
      "/Users/CoDaS/Dropbox/ShaftoLab/is-it-optimal/active_learning.py:119: RuntimeWarning: invalid value encountered in true_divide\n",
      "  score = full_post*teacher_prior*rep_prior/rep_z\n"
     ]
    },
    {
     "data": {
      "text/plain": [
       "[<matplotlib.lines.Line2D at 0x117e34160>]"
      ]
     },
     "execution_count": 6,
     "metadata": {},
     "output_type": "execute_result"
    },
    {
     "data": {
      "image/png": "[encoded data removed]",
      "text/plain": [
       "<matplotlib.figure.Figure at 0x117dd5eb8>"
      ]
     },
     "metadata": {},
     "output_type": "display_data"
    }
   ],
   "source": [
    "avg_perf_eig = average_performance(np.array(concept_space), method='self-teach')\n",
    "plt.plot(avg_perf_eig, '-o')"
   ]
  },
  {
   "cell_type": "code",
   "execution_count": null,
   "metadata": {
    "collapsed": true
   },
   "outputs": [],
   "source": []
  }
 ],
 "metadata": {
  "kernelspec": {
   "display_name": "Python [py35]",
   "language": "python",
   "name": "Python [py35]"
  },
  "language_info": {
   "codemirror_mode": {
    "name": "ipython",
    "version": 3
   },
   "file_extension": ".py",
   "mimetype": "text/x-python",
   "name": "python",
   "nbconvert_exporter": "python",
   "pygments_lexer": "ipython3",
   "version": "3.5.2"
  }
 },
 "nbformat": 4,
 "nbformat_minor": 2
}
