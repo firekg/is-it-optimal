{
 "cells": [
  {
   "cell_type": "code",
   "execution_count": 50,
   "metadata": {
    "collapsed": false
   },
   "outputs": [],
   "source": [
    "%reload_ext autoreload\n",
    "%autoreload 2\n",
    "    \n",
    "from active_learning import *\n",
    "from concept import *\n",
    "from util import performance_curve_difference\n",
    "\n",
    "import numpy as np\n",
    "import matplotlib.pyplot as plt\n",
    "\n",
    "%matplotlib inline"
   ]
  },
  {
   "cell_type": "markdown",
   "metadata": {},
   "source": [
    "## First plots"
   ]
  },
  {
   "cell_type": "code",
   "execution_count": 2,
   "metadata": {
    "collapsed": true
   },
   "outputs": [],
   "source": [
    "n_feature = 10\n",
    "n_concept = 10\n",
    "basis = concept_basis(n_feature)\n",
    "concept_space = select_random_basis(basis, n_concept)"
   ]
  },
  {
   "cell_type": "code",
   "execution_count": 4,
   "metadata": {
    "collapsed": false
   },
   "outputs": [
    {
     "name": "stderr",
     "output_type": "stream",
     "text": [
      "/Users/CoDaS/Dropbox/ShaftoLab/is-it-optimal/util.py:19: RuntimeWarning: divide by zero encountered in log\n",
      "  return -np.nansum(vec*np.log(vec))\n",
      "/Users/CoDaS/Dropbox/ShaftoLab/is-it-optimal/util.py:19: RuntimeWarning: invalid value encountered in multiply\n",
      "  return -np.nansum(vec*np.log(vec))\n",
      "/Users/CoDaS/Dropbox/ShaftoLab/is-it-optimal/active_learning.py:88: RuntimeWarning: invalid value encountered in true_divide\n",
      "  score = full_post*teacher_prior*rep_prior/rep_z\n"
     ]
    },
    {
     "data": {
      "text/plain": [
       "[<matplotlib.lines.Line2D at 0x11e328518>]"
      ]
     },
     "execution_count": 4,
     "metadata": {},
     "output_type": "execute_result"
    },
    {
     "data": {
      "image/png": "[encoded data removed]",
      "text/plain": [
       "<matplotlib.figure.Figure at 0x115be07f0>"
      ]
     },
     "metadata": {},
     "output_type": "display_data"
    }
   ],
   "source": [
    "avg_perf_eig = average_performance(np.array(concept_space), method='eig')\n",
    "avg_perf_st = average_performance(np.array(concept_space), method='self-teach')\n",
    "avg_perf_rand = average_performance(np.array(concept_space), method='random')\n",
    "plt.plot(avg_perf_eig, '-o')\n",
    "plt.hold(True)\n",
    "plt.plot(avg_perf_st, '-x')\n",
    "plt.plot(avg_perf_rand, '-^')"
   ]
  },
  {
   "cell_type": "code",
   "execution_count": 85,
   "metadata": {
    "collapsed": false
   },
   "outputs": [
    {
     "name": "stderr",
     "output_type": "stream",
     "text": [
      "/Users/CoDaS/Dropbox/ShaftoLab/is-it-optimal/util.py:19: RuntimeWarning: divide by zero encountered in log\n",
      "  return -np.nansum(vec*np.log(vec))\n",
      "/Users/CoDaS/Dropbox/ShaftoLab/is-it-optimal/util.py:19: RuntimeWarning: invalid value encountered in multiply\n",
      "  return -np.nansum(vec*np.log(vec))\n",
      "/Users/CoDaS/Dropbox/ShaftoLab/is-it-optimal/active_learning.py:88: RuntimeWarning: invalid value encountered in true_divide\n",
      "  score = full_post*teacher_prior*rep_prior/rep_z\n"
     ]
    },
    {
     "data": {
      "text/plain": [
       "[<matplotlib.lines.Line2D at 0x124b80438>]"
      ]
     },
     "execution_count": 85,
     "metadata": {},
     "output_type": "execute_result"
    },
    {
     "data": {
      "image/png": "[encoded data removed]",
      "text/plain": [
       "<matplotlib.figure.Figure at 0x124b80400>"
      ]
     },
     "metadata": {},
     "output_type": "display_data"
    }
   ],
   "source": [
    "n_feature = 6\n",
    "n_concept = 2**5\n",
    "basis = concept_basis(n_feature)\n",
    "concept_space = select_random_basis(basis, n_concept)\n",
    "avg_perf_eig = average_performance(np.array(concept_space), method='eig')\n",
    "avg_perf_st = average_performance(np.array(concept_space), method='self-teach')\n",
    "# avg_perf_rand = average_performance(np.array(concept_space), method='random')\n",
    "plt.plot(avg_perf_eig, '-o')\n",
    "plt.hold(True)\n",
    "plt.plot(avg_perf_st, '-x')\n",
    "# plt.plot(avg_perf_rand, '-^')"
   ]
  },
  {
   "cell_type": "markdown",
   "metadata": {},
   "source": [
    "## Find which method is better by randomly selection 100 spaces with 6 features and 32 concepts"
   ]
  },
  {
   "cell_type": "code",
   "execution_count": 65,
   "metadata": {
    "collapsed": false
   },
   "outputs": [],
   "source": [
    "# n_feature = 6\n",
    "# n_concept = 2**5\n",
    "# basis = concept_basis(n_feature)\n",
    "# n_trial = 100\n",
    "# winner = np.zeros(n_trial) #0 means tie, +ive means EIG better, -ive means Self-teaching better\n",
    "# concept_space_collection = []\n",
    "# for i in range(n_trial):\n",
    "#     print(\"Trial {}\".format(i))\n",
    "#     concept_space = select_random_basis(basis, n_concept)\n",
    "#     avg_perf_eig = average_performance(np.array(concept_space), method='eig')\n",
    "#     avg_perf_st = average_performance(np.array(concept_space), method='self-teach')\n",
    "#     winner[i] = np.sum(avg_perf_eig - avg_perf_st)\n",
    "#     concept_space_collection.append(concept_space)"
   ]
  },
  {
   "cell_type": "code",
   "execution_count": 29,
   "metadata": {
    "collapsed": false
   },
   "outputs": [
    {
     "data": {
      "text/plain": [
       "array([-6.25000000e-02, -3.12500000e-02, -3.12500000e-02, -3.12500000e-02,\n",
       "       -3.12500000e-02, -3.12500000e-02, -3.12500000e-02, -1.11022302e-16,\n",
       "       -5.55111512e-17, -2.77555756e-17, -1.38777878e-17,  0.00000000e+00,\n",
       "        1.38777878e-17,  2.77555756e-17,  5.55111512e-17,  1.11022302e-16,\n",
       "        1.38777878e-16,  3.12500000e-02,  3.12500000e-02,  3.12500000e-02,\n",
       "        3.12500000e-02,  3.12500000e-02,  6.25000000e-02,  9.37500000e-02])"
      ]
     },
     "execution_count": 29,
     "metadata": {},
     "output_type": "execute_result"
    }
   ],
   "source": [
    "np.unique(winner)"
   ]
  },
  {
   "cell_type": "code",
   "execution_count": 30,
   "metadata": {
    "collapsed": false
   },
   "outputs": [
    {
     "data": {
      "text/plain": [
       "73"
      ]
     },
     "execution_count": 30,
     "metadata": {},
     "output_type": "execute_result"
    }
   ],
   "source": [
    "winner.argmax()"
   ]
  },
  {
   "cell_type": "code",
   "execution_count": 31,
   "metadata": {
    "collapsed": false
   },
   "outputs": [
    {
     "data": {
      "text/plain": [
       "33"
      ]
     },
     "execution_count": 31,
     "metadata": {},
     "output_type": "execute_result"
    }
   ],
   "source": [
    "winner.argmin()"
   ]
  },
  {
   "cell_type": "code",
   "execution_count": 17,
   "metadata": {
    "collapsed": false
   },
   "outputs": [],
   "source": [
    "from concept import sort_concepts"
   ]
  },
  {
   "cell_type": "code",
   "execution_count": 32,
   "metadata": {
    "collapsed": false
   },
   "outputs": [
    {
     "data": {
      "text/plain": [
       "<matplotlib.image.AxesImage at 0x11f090c88>"
      ]
     },
     "execution_count": 32,
     "metadata": {},
     "output_type": "execute_result"
    },
    {
     "data": {
      "image/png": "[encoded data removed]",
      "text/plain": [
       "<matplotlib.figure.Figure at 0x11f0136a0>"
      ]
     },
     "metadata": {},
     "output_type": "display_data"
    }
   ],
   "source": [
    "plt.subplot(1,2,1)\n",
    "plt.imshow(sort_concepts(concept_space_collection[33]), interpolation='None', cmap='gray')\n",
    "plt.subplot(1,2,2)\n",
    "plt.imshow(sort_concepts(concept_space_collection[73]), interpolation='None', cmap='gray')"
   ]
  },
  {
   "cell_type": "code",
   "execution_count": 33,
   "metadata": {
    "collapsed": false
   },
   "outputs": [
    {
     "name": "stderr",
     "output_type": "stream",
     "text": [
      "/Users/CoDaS/Dropbox/ShaftoLab/is-it-optimal/util.py:19: RuntimeWarning: divide by zero encountered in log\n",
      "  return -np.nansum(vec*np.log(vec))\n",
      "/Users/CoDaS/Dropbox/ShaftoLab/is-it-optimal/util.py:19: RuntimeWarning: invalid value encountered in multiply\n",
      "  return -np.nansum(vec*np.log(vec))\n",
      "/Users/CoDaS/Dropbox/ShaftoLab/is-it-optimal/active_learning.py:88: RuntimeWarning: invalid value encountered in true_divide\n",
      "  score = full_post*teacher_prior*rep_prior/rep_z\n"
     ]
    },
    {
     "data": {
      "text/plain": [
       "[<matplotlib.lines.Line2D at 0x11f326f28>]"
      ]
     },
     "execution_count": 33,
     "metadata": {},
     "output_type": "execute_result"
    },
    {
     "data": {
      "image/png": "[encoded data removed]",
      "text/plain": [
       "<matplotlib.figure.Figure at 0x11f1746a0>"
      ]
     },
     "metadata": {},
     "output_type": "display_data"
    }
   ],
   "source": [
    "avg_perf_eig = average_performance(np.array(concept_space_collection[33]), method='eig')\n",
    "avg_perf_st = average_performance(np.array(concept_space_collection[33]), method='self-teach')\n",
    "plt.plot(avg_perf_eig, '-o')\n",
    "plt.hold(True)\n",
    "plt.plot(avg_perf_st, '-x')"
   ]
  },
  {
   "cell_type": "code",
   "execution_count": 34,
   "metadata": {
    "collapsed": false
   },
   "outputs": [
    {
     "name": "stderr",
     "output_type": "stream",
     "text": [
      "/Users/CoDaS/Dropbox/ShaftoLab/is-it-optimal/util.py:19: RuntimeWarning: divide by zero encountered in log\n",
      "  return -np.nansum(vec*np.log(vec))\n",
      "/Users/CoDaS/Dropbox/ShaftoLab/is-it-optimal/util.py:19: RuntimeWarning: invalid value encountered in multiply\n",
      "  return -np.nansum(vec*np.log(vec))\n",
      "/Users/CoDaS/Dropbox/ShaftoLab/is-it-optimal/active_learning.py:88: RuntimeWarning: invalid value encountered in true_divide\n",
      "  score = full_post*teacher_prior*rep_prior/rep_z\n"
     ]
    },
    {
     "data": {
      "text/plain": [
       "[<matplotlib.lines.Line2D at 0x11f389a20>]"
      ]
     },
     "execution_count": 34,
     "metadata": {},
     "output_type": "execute_result"
    },
    {
     "data": {
      "image/png": "[encoded data removed]",
      "text/plain": [
       "<matplotlib.figure.Figure at 0x11f389b00>"
      ]
     },
     "metadata": {},
     "output_type": "display_data"
    }
   ],
   "source": [
    "avg_perf_eig = average_performance(np.array(concept_space_collection[73]), method='eig')\n",
    "avg_perf_st = average_performance(np.array(concept_space_collection[73]), method='self-teach')\n",
    "plt.plot(avg_perf_eig, '-o')\n",
    "plt.hold(True)\n",
    "plt.plot(avg_perf_st, '-x')"
   ]
  },
  {
   "cell_type": "markdown",
   "metadata": {},
   "source": [
    "## Find which method is better by randomly selection 100 spaces with 8 features and 32 concepts"
   ]
  },
  {
   "cell_type": "code",
   "execution_count": 43,
   "metadata": {
    "collapsed": false
   },
   "outputs": [
    {
     "name": "stdout",
     "output_type": "stream",
     "text": [
      "Trial 0\n"
     ]
    },
    {
     "name": "stderr",
     "output_type": "stream",
     "text": [
      "/Users/CoDaS/Dropbox/ShaftoLab/is-it-optimal/util.py:19: RuntimeWarning: divide by zero encountered in log\n",
      "  return -np.nansum(vec*np.log(vec))\n",
      "/Users/CoDaS/Dropbox/ShaftoLab/is-it-optimal/util.py:19: RuntimeWarning: invalid value encountered in multiply\n",
      "  return -np.nansum(vec*np.log(vec))\n",
      "/Users/CoDaS/Dropbox/ShaftoLab/is-it-optimal/active_learning.py:88: RuntimeWarning: invalid value encountered in true_divide\n",
      "  score = full_post*teacher_prior*rep_prior/rep_z\n"
     ]
    },
    {
     "name": "stdout",
     "output_type": "stream",
     "text": [
      "Trial 1\n",
      "Trial 2\n",
      "Trial 3\n",
      "Trial 4\n",
      "Trial 5\n",
      "Trial 6\n",
      "Trial 7\n",
      "Trial 8\n",
      "Trial 9\n",
      "Trial 10\n",
      "Trial 11\n",
      "Trial 12\n",
      "Trial 13\n",
      "Trial 14\n",
      "Trial 15\n",
      "Trial 16\n",
      "Trial 17\n",
      "Trial 18\n",
      "Trial 19\n",
      "Trial 20\n",
      "Trial 21\n",
      "Trial 22\n",
      "Trial 23\n",
      "Trial 24\n",
      "Trial 25\n",
      "Trial 26\n",
      "Trial 27\n",
      "Trial 28\n",
      "Trial 29\n",
      "Trial 30\n",
      "Trial 31\n",
      "Trial 32\n",
      "Trial 33\n",
      "Trial 34\n",
      "Trial 35\n",
      "Trial 36\n",
      "Trial 37\n",
      "Trial 38\n",
      "Trial 39\n",
      "Trial 40\n",
      "Trial 41\n",
      "Trial 42\n",
      "Trial 43\n",
      "Trial 44\n",
      "Trial 45\n",
      "Trial 46\n",
      "Trial 47\n",
      "Trial 48\n",
      "Trial 49\n",
      "Trial 50\n",
      "Trial 51\n",
      "Trial 52\n",
      "Trial 53\n",
      "Trial 54\n",
      "Trial 55\n",
      "Trial 56\n",
      "Trial 57\n",
      "Trial 58\n",
      "Trial 59\n",
      "Trial 60\n",
      "Trial 61\n",
      "Trial 62\n",
      "Trial 63\n",
      "Trial 64\n",
      "Trial 65\n",
      "Trial 66\n",
      "Trial 67\n",
      "Trial 68\n",
      "Trial 69\n",
      "Trial 70\n",
      "Trial 71\n",
      "Trial 72\n",
      "Trial 73\n",
      "Trial 74\n",
      "Trial 75\n",
      "Trial 76\n",
      "Trial 77\n",
      "Trial 78\n",
      "Trial 79\n",
      "Trial 80\n",
      "Trial 81\n",
      "Trial 82\n",
      "Trial 83\n",
      "Trial 84\n",
      "Trial 85\n",
      "Trial 86\n",
      "Trial 87\n",
      "Trial 88\n",
      "Trial 89\n",
      "Trial 90\n",
      "Trial 91\n",
      "Trial 92\n",
      "Trial 93\n",
      "Trial 94\n",
      "Trial 95\n",
      "Trial 96\n",
      "Trial 97\n",
      "Trial 98\n",
      "Trial 99\n"
     ]
    }
   ],
   "source": [
    "n_feature = 8\n",
    "n_concept = 2**5\n",
    "basis = concept_basis(n_feature)\n",
    "n_trial = 100\n",
    "winner = np.zeros(n_trial) #0 means tie, +ive means EIG better, -ive means Self-teaching better\n",
    "concept_space_collection = []\n",
    "for i in range(n_trial):\n",
    "    print(\"Trial {}\".format(i))\n",
    "    concept_space = select_random_basis(basis, n_concept)\n",
    "    avg_perf_eig = average_performance(np.array(concept_space), method='eig')\n",
    "    avg_perf_st = average_performance(np.array(concept_space), method='self-teach')\n",
    "    winner[i] = np.sum(avg_perf_eig - avg_perf_st)\n",
    "    concept_space_collection.append(concept_space)"
   ]
  },
  {
   "cell_type": "code",
   "execution_count": 44,
   "metadata": {
    "collapsed": false
   },
   "outputs": [
    {
     "data": {
      "text/plain": [
       "array([-6.25000000e-02, -3.12500000e-02, -3.12500000e-02, -3.12500000e-02,\n",
       "       -1.66533454e-16, -1.11022302e-16, -5.55111512e-17, -2.77555756e-17,\n",
       "       -1.38777878e-17,  0.00000000e+00,  2.77555756e-17,  6.93889390e-17,\n",
       "        1.11022302e-16,  3.12500000e-02,  3.12500000e-02,  3.12500000e-02,\n",
       "        3.12500000e-02,  3.12500000e-02,  3.12500000e-02,  3.12500000e-02,\n",
       "        3.12500000e-02,  3.12500000e-02,  3.12500000e-02,  3.12500000e-02,\n",
       "        3.12500000e-02,  3.12500000e-02,  3.12500000e-02,  6.25000000e-02,\n",
       "        6.25000000e-02,  6.25000000e-02,  6.25000000e-02,  6.25000000e-02,\n",
       "        6.25000000e-02,  6.25000000e-02,  6.25000000e-02,  9.37500000e-02,\n",
       "        9.37500000e-02,  9.37500000e-02,  9.37500000e-02,  9.37500000e-02,\n",
       "        9.37500000e-02,  9.37500000e-02])"
      ]
     },
     "execution_count": 44,
     "metadata": {},
     "output_type": "execute_result"
    }
   ],
   "source": [
    "np.unique(winner)"
   ]
  },
  {
   "cell_type": "code",
   "execution_count": 45,
   "metadata": {
    "collapsed": false
   },
   "outputs": [
    {
     "name": "stdout",
     "output_type": "stream",
     "text": [
      "63\n",
      "9\n"
     ]
    }
   ],
   "source": [
    "print(winner.argmax())\n",
    "print(winner.argmin())"
   ]
  },
  {
   "cell_type": "code",
   "execution_count": 46,
   "metadata": {
    "collapsed": false
   },
   "outputs": [
    {
     "data": {
      "text/plain": [
       "<matplotlib.image.AxesImage at 0x11f738e10>"
      ]
     },
     "execution_count": 46,
     "metadata": {},
     "output_type": "execute_result"
    },
    {
     "data": {
      "image/png": "[encoded data removed]",
      "text/plain": [
       "<matplotlib.figure.Figure at 0x11e9cb588>"
      ]
     },
     "metadata": {},
     "output_type": "display_data"
    }
   ],
   "source": [
    "plt.subplot(1,2,1)\n",
    "plt.imshow(sort_concepts(concept_space_collection[9]), interpolation='None', cmap='gray')\n",
    "plt.subplot(1,2,2)\n",
    "plt.imshow(sort_concepts(concept_space_collection[63]), interpolation='None', cmap='gray')"
   ]
  },
  {
   "cell_type": "code",
   "execution_count": 54,
   "metadata": {
    "collapsed": false
   },
   "outputs": [
    {
     "name": "stderr",
     "output_type": "stream",
     "text": [
      "/Users/CoDaS/Dropbox/ShaftoLab/is-it-optimal/util.py:19: RuntimeWarning: divide by zero encountered in log\n",
      "  return -np.nansum(vec*np.log(vec))\n",
      "/Users/CoDaS/Dropbox/ShaftoLab/is-it-optimal/util.py:19: RuntimeWarning: invalid value encountered in multiply\n",
      "  return -np.nansum(vec*np.log(vec))\n",
      "/Users/CoDaS/Dropbox/ShaftoLab/is-it-optimal/active_learning.py:88: RuntimeWarning: invalid value encountered in true_divide\n",
      "  score = full_post*teacher_prior*rep_prior/rep_z\n"
     ]
    },
    {
     "data": {
      "text/plain": [
       "[<matplotlib.lines.Line2D at 0x11bab6f28>]"
      ]
     },
     "execution_count": 54,
     "metadata": {},
     "output_type": "execute_result"
    },
    {
     "data": {
      "image/png": "[encoded data removed]",
      "text/plain": [
       "<matplotlib.figure.Figure at 0x11bb3a160>"
      ]
     },
     "metadata": {},
     "output_type": "display_data"
    }
   ],
   "source": [
    "avg_perf_eig = average_performance(np.array(concept_space_collection[9]), method='eig')\n",
    "avg_perf_st = average_performance(np.array(concept_space_collection[9]), method='self-teach')\n",
    "plt.plot(avg_perf_eig, '-o')\n",
    "plt.hold(True)\n",
    "plt.plot(avg_perf_st, '-x')"
   ]
  },
  {
   "cell_type": "markdown",
   "metadata": {},
   "source": [
    "## Test to see concept and feature permutations do not change the performance\n",
    "But actually, it does matter a bit, probably because of the tie-breaking."
   ]
  },
  {
   "cell_type": "code",
   "execution_count": 62,
   "metadata": {
    "collapsed": false
   },
   "outputs": [
    {
     "name": "stderr",
     "output_type": "stream",
     "text": [
      "/Users/CoDaS/Dropbox/ShaftoLab/is-it-optimal/util.py:19: RuntimeWarning: divide by zero encountered in log\n",
      "  return -np.nansum(vec*np.log(vec))\n",
      "/Users/CoDaS/Dropbox/ShaftoLab/is-it-optimal/util.py:19: RuntimeWarning: invalid value encountered in multiply\n",
      "  return -np.nansum(vec*np.log(vec))\n",
      "/Users/CoDaS/Dropbox/ShaftoLab/is-it-optimal/active_learning.py:88: RuntimeWarning: invalid value encountered in true_divide\n",
      "  score = full_post*teacher_prior*rep_prior/rep_z\n"
     ]
    }
   ],
   "source": [
    "cs = np.array(concept_space_collection[63])\n",
    "cs1 = row_sort_concepts(cs)\n",
    "cs2 = col_sort_features(cs1)\n",
    "cs_perf_eig = average_performance(np.array(cs), method='eig')\n",
    "cs_perf_st = average_performance(np.array(cs), method='self-teach')\n",
    "cs1_perf_eig = average_performance(np.array(cs1), method='eig')\n",
    "cs1_perf_st = average_performance(np.array(cs1), method='self-teach')\n",
    "cs2_perf_eig = average_performance(np.array(cs2), method='eig')\n",
    "cs2_perf_st = average_performance(np.array(cs2), method='self-teach')"
   ]
  },
  {
   "cell_type": "code",
   "execution_count": 63,
   "metadata": {
    "collapsed": false
   },
   "outputs": [
    {
     "data": {
      "text/plain": [
       "[<matplotlib.lines.Line2D at 0x120270f98>]"
      ]
     },
     "execution_count": 63,
     "metadata": {},
     "output_type": "execute_result"
    },
    {
     "data": {
      "image/png": "[encoded data removed]",
      "text/plain": [
       "<matplotlib.figure.Figure at 0x120219f98>"
      ]
     },
     "metadata": {},
     "output_type": "display_data"
    }
   ],
   "source": [
    "plt.plot(cs_perf_eig, 'r-o')\n",
    "plt.hold(True)\n",
    "plt.plot(cs_perf_st, 'r-x')\n",
    "plt.plot(cs1_perf_eig, 'b-o')\n",
    "plt.plot(cs1_perf_st, 'b-x')\n",
    "plt.plot(cs2_perf_eig, 'k-o')\n",
    "plt.plot(cs2_perf_st, 'k-x')"
   ]
  },
  {
   "cell_type": "code",
   "execution_count": 51,
   "metadata": {
    "collapsed": false
   },
   "outputs": [
    {
     "name": "stderr",
     "output_type": "stream",
     "text": [
      "/Users/CoDaS/Dropbox/ShaftoLab/is-it-optimal/util.py:19: RuntimeWarning: divide by zero encountered in log\n",
      "  return -np.nansum(vec*np.log(vec))\n",
      "/Users/CoDaS/Dropbox/ShaftoLab/is-it-optimal/util.py:19: RuntimeWarning: invalid value encountered in multiply\n",
      "  return -np.nansum(vec*np.log(vec))\n",
      "/Users/CoDaS/Dropbox/ShaftoLab/is-it-optimal/active_learning.py:88: RuntimeWarning: invalid value encountered in true_divide\n",
      "  score = full_post*teacher_prior*rep_prior/rep_z\n"
     ]
    }
   ],
   "source": [
    "n_feature = 8\n",
    "n_concept = 2**5\n",
    "basis = concept_basis(n_feature)\n",
    "concept_space = select_random_basis(basis, n_concept)\n",
    "avg_perf_eig = average_performance(np.array(concept_space), method='eig')\n",
    "avg_perf_st = average_performance(np.array(concept_space), method='self-teach')"
   ]
  },
  {
   "cell_type": "markdown",
   "metadata": {},
   "source": [
    "## Plotting concept and feature permutations"
   ]
  },
  {
   "cell_type": "code",
   "execution_count": 53,
   "metadata": {
    "collapsed": false
   },
   "outputs": [
    {
     "data": {
      "text/plain": [
       "<matplotlib.image.AxesImage at 0x11bb33a58>"
      ]
     },
     "execution_count": 53,
     "metadata": {},
     "output_type": "execute_result"
    },
    {
     "data": {
      "image/png": "[encoded data removed]",
      "text/plain": [
       "<matplotlib.figure.Figure at 0x11e2d5860>"
      ]
     },
     "metadata": {},
     "output_type": "display_data"
    }
   ],
   "source": [
    "plt.subplot(1,3,1)\n",
    "plt.imshow(concept_space, interpolation='None', cmap='gray')\n",
    "plt.subplot(1,3,2)\n",
    "plt.imshow(row_sort_concepts(concept_space), interpolation='None', cmap='gray')\n",
    "plt.subplot(1,3,3)\n",
    "plt.imshow(col_sort_features(row_sort_concepts(concept_space)), interpolation='None', cmap='gray')"
   ]
  },
  {
   "cell_type": "code",
   "execution_count": null,
   "metadata": {
    "collapsed": true
   },
   "outputs": [],
   "source": []
  }
 ],
 "metadata": {
  "kernelspec": {
   "display_name": "Python [py35]",
   "language": "python",
   "name": "Python [py35]"
  },
  "language_info": {
   "codemirror_mode": {
    "name": "ipython",
    "version": 3
   },
   "file_extension": ".py",
   "mimetype": "text/x-python",
   "name": "python",
   "nbconvert_exporter": "python",
   "pygments_lexer": "ipython3",
   "version": "3.5.2"
  }
 },
 "nbformat": 4,
 "nbformat_minor": 2
}
